{
 "cells": [
  {
   "cell_type": "code",
   "execution_count": 12,
   "metadata": {},
   "outputs": [
    {
     "name": "stdout",
     "output_type": "stream",
     "text": [
      "2010\n"
     ]
    }
   ],
   "source": [
    "class Solution:\n",
    "    def romanToInt(s: str) -> int:\n",
    "       \n",
    "        # Ersetzten der Römischen Zeichen durch arabische Zahlen\n",
    "        s = s.replace('IV', '4 ')\n",
    "        s = s.replace('IX', '9 ')\n",
    "        s = s.replace('XL', '40 ')\n",
    "        s = s.replace('XC', '90 ')\n",
    "        s = s.replace('CD', '400 ')\n",
    "        s = s.replace('CM', '900 ')\n",
    "        s = s.replace('I', '1 ')\n",
    "        s = s.replace('V', '5 ')\n",
    "        s = s.replace('X', '10 ')\n",
    "        s = s.replace('L', '50 ')\n",
    "        s = s.replace('C', '100 ')\n",
    "        s = s.replace('D', '500 ')\n",
    "        s = s.replace('M', '1000 ')\n",
    "\n",
    "        #print(s)\n",
    "\n",
    "        # Überführen der einzelnen Zahlen in Einträge einer Liste\n",
    "\n",
    "        StringList = s.split()\n",
    "\n",
    "        #print(StringList)\n",
    "\n",
    "        # Konvertieren der string Elemente in der List in Integer\n",
    "\n",
    "        IntegerList = [int(string) for string in StringList]\n",
    "\n",
    "        # Aufsummieren der Einträge in der Liste\n",
    "\n",
    "        sum(IntegerList)\n",
    "\n",
    "        # Zurückgeben des Ergebnisses\n",
    "\n",
    "        return sum(IntegerList)\n",
    "\n",
    "print(Solution.romanToInt('MMX'))\n"
   ]
  }
 ],
 "metadata": {
  "kernelspec": {
   "display_name": "Python 3.11.0 64-bit",
   "language": "python",
   "name": "python3"
  },
  "language_info": {
   "codemirror_mode": {
    "name": "ipython",
    "version": 3
   },
   "file_extension": ".py",
   "mimetype": "text/x-python",
   "name": "python",
   "nbconvert_exporter": "python",
   "pygments_lexer": "ipython3",
   "version": "3.11.0"
  },
  "orig_nbformat": 4,
  "vscode": {
   "interpreter": {
    "hash": "ebfc0a8d552866b0d59eba665220a57de3bc06f3ac643b8bef38dd8f66781fdd"
   }
  }
 },
 "nbformat": 4,
 "nbformat_minor": 2
}
