{
 "cells": [
  {
   "cell_type": "code",
   "execution_count": 96,
   "metadata": {},
   "outputs": [
    {
     "name": "stdout",
     "output_type": "stream",
     "text": [
      "439\n"
     ]
    }
   ],
   "source": [
    "#def romanToInt(Roman):\n",
    "# Roman string Eingabe\n",
    "s = \"CDXXXIX\"\n",
    "# Ersten der Römischen Zeichen durch arabische Zahlen\n",
    "s = s.replace('IV', '4 ')\n",
    "s = s.replace('IX', '9 ')\n",
    "s = s.replace('XL', '40 ')\n",
    "s = s.replace('XC', '90 ')\n",
    "s = s.replace('CD', '400 ')\n",
    "s = s.replace('CM', '900 ')\n",
    "s = s.replace('I', '1 ')\n",
    "s = s.replace('V', '5 ')\n",
    "s = s.replace('X', '10 ')\n",
    "s = s.replace('L', '50 ')\n",
    "s = s.replace('C', '100 ')\n",
    "s = s.replace('D', '500 ')\n",
    "s = s.replace('M', '1000 ')\n",
    "\n",
    "#print(s)\n",
    "\n",
    "# Überführen der einzelnen Zahlen in Einträge einer Liste\n",
    "\n",
    "StringList = s.split()\n",
    "\n",
    "#print(StringList)\n",
    "\n",
    "# Konvertieren der string Elemente in der List in Integer\n",
    "\n",
    "IntegerList = [int(string) for string in StringList]\n",
    "\n",
    "# Aufsummieren der Einträge in der Liste\n",
    "\n",
    "sum(IntegerList)\n",
    "\n",
    "# Zurückgeben des Ergebnisses\n",
    "\n",
    "#return sum(IntegerList))\n",
    "\n",
    "print(sum(IntegerList))    \n",
    "\n",
    "\n",
    "            "
   ]
  },
  {
   "cell_type": "code",
   "execution_count": 100,
   "metadata": {},
   "outputs": [
    {
     "ename": "NameError",
     "evalue": "name 'self' is not defined",
     "output_type": "error",
     "traceback": [
      "\u001b[1;31m---------------------------------------------------------------------------\u001b[0m",
      "\u001b[1;31mNameError\u001b[0m                                 Traceback (most recent call last)",
      "Cell \u001b[1;32mIn [100], line 39\u001b[0m\n\u001b[0;32m     35\u001b[0m         \u001b[38;5;66;03m# Zurückgeben des Ergebnisses\u001b[39;00m\n\u001b[0;32m     37\u001b[0m         \u001b[38;5;28;01mreturn\u001b[39;00m \u001b[38;5;28msum\u001b[39m(IntegerList)\n\u001b[1;32m---> 39\u001b[0m \u001b[38;5;28mprint\u001b[39m(romanToInt(\u001b[38;5;28;43mself\u001b[39;49m,\u001b[38;5;124m'\u001b[39m\u001b[38;5;124mVII\u001b[39m\u001b[38;5;124m'\u001b[39m))\n",
      "\u001b[1;31mNameError\u001b[0m: name 'self' is not defined"
     ]
    }
   ],
   "source": [
    "class Solution:\n",
    "    def romanToInt(self, s: str) -> int:\n",
    "       \n",
    "        # Ersten der Römischen Zeichen durch arabische Zahlen\n",
    "        s = s.replace('IV', '4 ')\n",
    "        s = s.replace('IX', '9 ')\n",
    "        s = s.replace('XL', '40 ')\n",
    "        s = s.replace('XC', '90 ')\n",
    "        s = s.replace('CD', '400 ')\n",
    "        s = s.replace('CM', '900 ')\n",
    "        s = s.replace('I', '1 ')\n",
    "        s = s.replace('V', '5 ')\n",
    "        s = s.replace('X', '10 ')\n",
    "        s = s.replace('L', '50 ')\n",
    "        s = s.replace('C', '100 ')\n",
    "        s = s.replace('D', '500 ')\n",
    "        s = s.replace('M', '1000 ')\n",
    "\n",
    "        #print(s)\n",
    "\n",
    "        # Überführen der einzelnen Zahlen in Einträge einer Liste\n",
    "\n",
    "        StringList = s.split()\n",
    "\n",
    "        #print(StringList)\n",
    "\n",
    "        # Konvertieren der string Elemente in der List in Integer\n",
    "\n",
    "        IntegerList = [int(string) for string in StringList]\n",
    "\n",
    "        # Aufsummieren der Einträge in der Liste\n",
    "\n",
    "        sum(IntegerList)\n",
    "\n",
    "        # Zurückgeben des Ergebnisses\n",
    "\n",
    "        return sum(IntegerList)\n",
    "\n",
    "print(romanToInt(self,'VII'))\n",
    "\n"
   ]
  }
 ],
 "metadata": {
  "kernelspec": {
   "display_name": "Python 3.11.0 64-bit",
   "language": "python",
   "name": "python3"
  },
  "language_info": {
   "codemirror_mode": {
    "name": "ipython",
    "version": 3
   },
   "file_extension": ".py",
   "mimetype": "text/x-python",
   "name": "python",
   "nbconvert_exporter": "python",
   "pygments_lexer": "ipython3",
   "version": "3.11.0"
  },
  "orig_nbformat": 4,
  "vscode": {
   "interpreter": {
    "hash": "ebfc0a8d552866b0d59eba665220a57de3bc06f3ac643b8bef38dd8f66781fdd"
   }
  }
 },
 "nbformat": 4,
 "nbformat_minor": 2
}
