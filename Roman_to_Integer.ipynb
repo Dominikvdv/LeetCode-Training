{
 "cells": [
  {
   "cell_type": "code",
   "execution_count": 96,
   "metadata": {},
   "outputs": [
    {
     "name": "stdout",
     "output_type": "stream",
     "text": [
      "439\n"
     ]
    }
   ],
   "source": [
    "\n",
    "# Roman string Eingabe\n",
    "s = \"CDXXXIX\"\n",
    "# Ersten der Römischen Zeichen durch arabische Zahlen\n",
    "s = s.replace('IV', '4 ')\n",
    "s = s.replace('IX', '9 ')\n",
    "s = s.replace('XL', '40 ')\n",
    "s = s.replace('XC', '90 ')\n",
    "s = s.replace('CD', '400 ')\n",
    "s = s.replace('CM', '900 ')\n",
    "s = s.replace('I', '1 ')\n",
    "s = s.replace('V', '5 ')\n",
    "s = s.replace('X', '10 ')\n",
    "s = s.replace('L', '50 ')\n",
    "s = s.replace('C', '100 ')\n",
    "s = s.replace('D', '500 ')\n",
    "s = s.replace('M', '1000 ')\n",
    "\n",
    "# Überführen der einzelnen Zahlen in Einträge einer Liste\n",
    "\n",
    "StringList = s.split()\n",
    "\n",
    "# Konvertieren der string Elemente in der List in Integer\n",
    "\n",
    "IntegerList = [int(string) for string in StringList]\n",
    "\n",
    "# Aufsummieren der Einträge in der Liste\n",
    "\n",
    "sum(IntegerList)\n",
    "\n",
    "# Zurückgeben des Ergebnisses\n",
    "\n",
    "#return sum(IntegerList))\n",
    "\n",
    "print(sum(IntegerList))    \n",
    "\n",
    "\n",
    "            "
   ]
  },
