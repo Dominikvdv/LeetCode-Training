{
 "cells": [
  {
   "cell_type": "code",
   "execution_count": 105,
   "metadata": {},
   "outputs": [
    {
     "name": "stdout",
     "output_type": "stream",
     "text": [
      "[1, 2, 3, 2, 1, 3]\n",
      "1\n",
      "5\n",
      "3\n",
      "kein palindrome\n",
      "2\n",
      "4\n",
      "1\n",
      "kein palindrome\n",
      "3\n",
      "3\n",
      "2\n",
      "kein palindrome\n",
      "2\n",
      "2\n",
      "3\n",
      "kein palindrome\n",
      "1\n",
      "1\n",
      "2\n",
      "kein palindrome\n",
      "3\n",
      "0\n",
      "1\n",
      "kein palindrome\n"
     ]
    }
   ],
   "source": [
    "x=123213\n",
    "\n",
    "list=[]\n",
    "\n",
    "i=len(str(x))\n",
    "\n",
    "while i >= 1:\n",
    "\n",
    "    list.append(int((x%10**i-x%10**(i-1))/10**(i-1)))\n",
    "    i=i-1\n",
    "\n",
    "print(list)\n",
    "\n",
    "n=len(str(x))-1\n",
    "\n",
    "for n2 in list:\n",
    "\n",
    "    print(n2)\n",
    "    print(n)\n",
    "    print(list[n])\n",
    "\n",
    "    if n2 == list[n]:\n",
    "        \n",
    "        print('check')\n",
    "        n=n-1\n",
    "        \n",
    "    else:\n",
    "        print('kein palindrome')\n",
    "        n=n-1"
   ]
  },
  {
   "cell_type": "code",
   "execution_count": 42,
   "metadata": {},
   "outputs": [
    {
     "name": "stdout",
     "output_type": "stream",
     "text": [
      "palindrome\n",
      "[1, 2]\n",
      "[1, 2]\n"
     ]
    }
   ],
   "source": [
    "x=121\n",
    "\n",
    "if(x < 0 or (x % 10 == 0 and x != 0)):\n",
    "    \n",
    "    # Sonderfälle ausschließen wie bspw. -1\n",
    "\n",
    "    print('kein palindrome')\n",
    "\n",
    "else:\n",
    "\n",
    "    #Eingabe \n",
    "\n",
    "    list1=[]\n",
    "    list2=[]\n",
    "\n",
    "    #Definition der Listen die später verglichen werden\n",
    "\n",
    "    import math\n",
    "    digits = int(math.log10(x))+1\n",
    "\n",
    "    #Anzahl der Ziffern bestimmen\n",
    "\n",
    "    i=digits\n",
    "    n=1\n",
    "\n",
    "    # Laufvariablen bestimmen: n zählt durch die Zahl von links nach rechts, i zählt von durch die Zahl vpn rechts nach links\n",
    "\n",
    "    while i > digits-(digits/2):\n",
    "\n",
    "        list1.append(int((x%10**i-x%10**(i-1))/10**(i-1)))\n",
    "        list2.append(int((x%10**n-x%10**(n-1))/10**(n-1)))\n",
    "\n",
    "        # Aufüllen der zwei Listen bis zur Mitte der Eingabezahl. list1 wird mit den ersten Ziffern der Eingabezahl gefüllt, list2 wird mit den letzten Ziffern der Zahl gefüllt.\n",
    "        i=i-1\n",
    "        n=n+1\n",
    "\n",
    "    if list1 == list2:\n",
    "        print('palindrome')\n",
    "    else:\n",
    "        print('kein palindrome')\n",
    "\n",
    "    print(list1)\n",
    "    print(list2)\n"
   ]
  }
 ],
 "metadata": {
  "kernelspec": {
   "display_name": "Python 3.11.0 64-bit",
   "language": "python",
   "name": "python3"
  },
  "language_info": {
   "codemirror_mode": {
    "name": "ipython",
    "version": 3
   },
   "file_extension": ".py",
   "mimetype": "text/x-python",
   "name": "python",
   "nbconvert_exporter": "python",
   "pygments_lexer": "ipython3",
   "version": "3.11.0"
  },
  "orig_nbformat": 4,
  "vscode": {
   "interpreter": {
    "hash": "ebfc0a8d552866b0d59eba665220a57de3bc06f3ac643b8bef38dd8f66781fdd"
   }
  }
 },
 "nbformat": 4,
 "nbformat_minor": 2
}
